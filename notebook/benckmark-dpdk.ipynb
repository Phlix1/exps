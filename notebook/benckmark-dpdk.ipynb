{
 "cells": [
  {
   "cell_type": "markdown",
   "id": "c091e405",
   "metadata": {},
   "source": [
    "## Results below were produced using a 100Gbps NIC, for 10Gbps results please refer to our paper"
   ]
  },
  {
   "cell_type": "code",
   "execution_count": 5,
   "id": "b9ff6e91",
   "metadata": {},
   "outputs": [],
   "source": [
    "import numpy as np\n",
    "import matplotlib.pyplot as plt\n",
    "import matplotlib.patches as mpatches\n",
    "import re\n",
    "\n",
    "def parse_microbenchmark_log(wnum, rank, lib, mode, density):\n",
    "    time_array = []\n",
    "    with open(f\"10G-results/{str(wnum)}-{str(rank)}/{lib}-{mode}/{str(density)}.log\", \"r\", encoding='UTF-8') as f:\n",
    "        lines = [line for line in f]\n",
    "    for line in lines:\n",
    "        line = line.strip()\n",
    "        x = re.search(\"time:(.*);\", line)\n",
    "        if x is not None:\n",
    "            batch_time = float(x.group(1))\n",
    "            time_array.append(batch_time)\n",
    "    return np.array(time_array)/1000"
   ]
  },
  {
   "cell_type": "markdown",
   "id": "3cd69380",
   "metadata": {},
   "source": [
    "# Figure 4"
   ]
  },
  {
   "cell_type": "code",
   "execution_count": 14,
   "id": "5c172995",
   "metadata": {},
   "outputs": [
    {
     "data": {
      "text/plain": [
       "<matplotlib.legend.Legend at 0x7fe7fa241110>"
      ]
     },
     "execution_count": 14,
     "metadata": {},
     "output_type": "execute_result"
    },
    {
     "data": {
      "image/png": "[encoded data removed]",
      "text/plain": [
       "<Figure size 432x288 with 2 Axes>"
      ]
     },
     "metadata": {
      "needs_background": "light"
     },
     "output_type": "display_data"
    }
   ],
   "source": [
    "colors =  ['#1f77b4', '#ff7f0e','#2ca02c', '#0b5345','#d62728','#9467bd',  '#8c564b']\n",
    "wnums = [2, 4, 8]\n",
    "legend = ['NCCL', \\\n",
    "          'O, 0%', \\\n",
    "          'O, 60%', \\\n",
    "          'O, 90%', \\\n",
    "          'O, 99%'\n",
    "          ]\n",
    "#densities = [1.0, 0.8, 0.4, 0.2, 0.1, 0.08, 0.04, 0.02, 0.01]\n",
    "densities = [1.0, 0.4, 0.1, 0.01]\n",
    "patches = [mpatches.Patch(label=label) for label in legend]\n",
    "fig, (ax) = plt.subplots(1,1)\n",
    "fig.set_size_inches(6,4)\n",
    "# plot RDMA\n",
    "data_all = []\n",
    "data = []\n",
    "for w in wnums:\n",
    "    for r in range(w):\n",
    "        data.append(parse_microbenchmark_log(w, r, 'NCCL', 'TCPIP', 1.0))\n",
    "data_all.append(data)\n",
    "for d in densities:\n",
    "    data = []\n",
    "    for w in wnums:\n",
    "        for r in range(w):\n",
    "            data.append(parse_microbenchmark_log(w, r, 'omnireduce', 'DPDK', d))\n",
    "    data_all.append(data)\n",
    "    \n",
    "num_columns = len(wnums)\n",
    "ax.yaxis.grid(True, which='major', zorder=1)\n",
    "for p in np.arange(num_columns-1):\n",
    "    ax.axvline(x=p+0.5, color='gray', linewidth=1)\n",
    "plt.xlim(-0.5, num_columns-0.5)\n",
    "\n",
    "num_plots = len(data_all)\n",
    "\n",
    "for i in range(num_plots):\n",
    "    pos = np.arange(len(data_all[i])) -0.5 + ((i+1)/(num_plots+1))\n",
    "    violin_parts = ax.violinplot(data_all[i], showmeans=False, showmedians=True, widths=1/(num_plots+1),\n",
    "                                     positions=pos, showextrema=True)\n",
    "    for partname in ('cbars','cmins','cmaxes','cmedians'):\n",
    "        vp = violin_parts[partname]\n",
    "        vp.set_linewidth(1)\n",
    "        vp.set_facecolor(colors[i])\n",
    "        vp.set_edgecolor(colors[i])\n",
    "    for pc in violin_parts['bodies']:\n",
    "        pc.set_alpha(0.5)\n",
    "        pc.set_zorder(2)\n",
    "        pc.set_facecolor(colors[i])\n",
    "        pc.set_edgecolor(colors[i])\n",
    "    patches[i].set_fc(violin_parts['bodies'][0].get_facecolor()[0][0:3])\n",
    "    \n",
    "num_columns = len(wnums)\n",
    "plt.xlim(-0.5, num_columns-0.5)\n",
    "\n",
    "num_plots = len(data_all)\n",
    "\n",
    "ax.set_ylabel('Time [ms]', fontsize=12)\n",
    "ax00 = ax.twinx()\n",
    "ax00.tick_params(axis='y', right=False, labelright=False)\n",
    "ax00.set_ylabel(\"TCP/IP@100Gbps\", fontsize=12)\n",
    "plt.setp(ax, xticks=[y for y in range(num_columns)],\n",
    "     xticklabels=[str(pow(2,l+1)) for l in range(num_columns)])\n",
    "plt.legend(handles=patches, ncol=3, fontsize=12)\n",
    "# art = [plt.legend(handles=patches, loc=1, bbox_to_anchor=(0.95, 2.7), ncol=3, fontsize=12)]"
   ]
  }
 ],
 "metadata": {
  "kernelspec": {
   "display_name": "Python 3",
   "language": "python",
   "name": "python3"
  },
  "language_info": {
   "codemirror_mode": {
    "name": "ipython",
    "version": 3
   },
   "file_extension": ".py",
   "mimetype": "text/x-python",
   "name": "python",
   "nbconvert_exporter": "python",
   "pygments_lexer": "ipython3",
   "version": "3.7.10"
  }
 },
 "nbformat": 4,
 "nbformat_minor": 5
}
